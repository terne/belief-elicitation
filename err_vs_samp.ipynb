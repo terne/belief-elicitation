{
 "cells": [
  {
   "cell_type": "code",
   "execution_count": 1,
   "metadata": {},
   "outputs": [],
   "source": [
    "import pandas as pd\n",
    "import numpy as np\n",
    "import random\n",
    "import matplotlib.pyplot as plt\n",
    "%matplotlib inline\n",
    "#random.seed(42)\n",
    "#np.random.seed(42)\n",
    "from tqdm import tqdm\n",
    "from sklearn.metrics import mean_squared_error\n",
    "import pickle\n",
    "import seaborn as sns"
   ]
  },
  {
   "cell_type": "code",
   "execution_count": 101,
   "metadata": {},
   "outputs": [],
   "source": [
    "data1 = pd.read_csv(\"study1/study1data.csv\", index_col=0)\n",
    "data2 = pd.read_csv(\"study2/study2data.csv\", index_col=0)"
   ]
  },
  {
   "cell_type": "code",
   "execution_count": 102,
   "metadata": {},
   "outputs": [
    {
     "data": {
      "text/plain": [
       "Index(['StartDate', 'EndDate', 'Status', 'Progress', 'Duration (in seconds)',\n",
       "       'Finished', 'RecordedDate', 'ResponseId', 'DistributionChannel',\n",
       "       'UserLanguage', 'consent', 'ID', 'age', 'gender', 'polAffil',\n",
       "       'polAlign_1', 'educ', 'langother', 'englishprof', 'Q1_1', 'Q2_1',\n",
       "       'Q4_1', 'Q5_1', 'Q3_1', 'Q6_1', 'Q1_2_3', 'Q1_2_4', 'Q2_2_1', 'Q2_2_2',\n",
       "       'Q4_2_1', 'Q4_2_2', 'Q5_2_1', 'Q5_2_2', 'Q3_2_1', 'Q3_2_2', 'Q6_2_1',\n",
       "       'Q6_2_2', 'PROLIFIC_PID', 'Condition', 'survey', 'Q1_midpoint',\n",
       "       'Q2_midpoint', 'Q3_midpoint', 'Q4_midpoint', 'Q5_midpoint',\n",
       "       'Q6_midpoint', 'Q1_width', 'Q2_width', 'Q3_width', 'Q4_width',\n",
       "       'Q5_width', 'Q6_width', 'width_median', 'width_mean'],\n",
       "      dtype='object')"
      ]
     },
     "execution_count": 102,
     "metadata": {},
     "output_type": "execute_result"
    }
   ],
   "source": [
    "data1.columns"
   ]
  },
  {
   "cell_type": "code",
   "execution_count": 103,
   "metadata": {},
   "outputs": [],
   "source": [
    "cols = [\"Q1_1\",\"Q2_1\", \"Q4_1\", \"Q5_1\",\"Q1_midpoint\",\"Q2_midpoint\",\"Q4_midpoint\", \"Q5_midpoint\", \"polAffil\"]\n",
    "data = pd.concat([data1[cols],data2[cols]])"
   ]
  },
  {
   "cell_type": "code",
   "execution_count": 21,
   "metadata": {},
   "outputs": [
    {
     "data": {
      "text/html": [
       "<div>\n",
       "<style scoped>\n",
       "    .dataframe tbody tr th:only-of-type {\n",
       "        vertical-align: middle;\n",
       "    }\n",
       "\n",
       "    .dataframe tbody tr th {\n",
       "        vertical-align: top;\n",
       "    }\n",
       "\n",
       "    .dataframe thead th {\n",
       "        text-align: right;\n",
       "    }\n",
       "</style>\n",
       "<table border=\"1\" class=\"dataframe\">\n",
       "  <thead>\n",
       "    <tr style=\"text-align: right;\">\n",
       "      <th></th>\n",
       "      <th>Q1_1</th>\n",
       "      <th>Q2_1</th>\n",
       "      <th>Q4_1</th>\n",
       "      <th>Q5_1</th>\n",
       "      <th>Q1_midpoint</th>\n",
       "      <th>Q2_midpoint</th>\n",
       "      <th>Q4_midpoint</th>\n",
       "      <th>Q5_midpoint</th>\n",
       "      <th>polAffil</th>\n",
       "    </tr>\n",
       "  </thead>\n",
       "  <tbody>\n",
       "    <tr>\n",
       "      <th>0</th>\n",
       "      <td>0.25</td>\n",
       "      <td>0.46</td>\n",
       "      <td>1.00</td>\n",
       "      <td>0.75</td>\n",
       "      <td>0.1450</td>\n",
       "      <td>0.5200</td>\n",
       "      <td>0.6900</td>\n",
       "      <td>0.5550</td>\n",
       "      <td>Republican</td>\n",
       "    </tr>\n",
       "    <tr>\n",
       "      <th>1</th>\n",
       "      <td>0.95</td>\n",
       "      <td>0.26</td>\n",
       "      <td>0.77</td>\n",
       "      <td>0.78</td>\n",
       "      <td>0.5100</td>\n",
       "      <td>0.8300</td>\n",
       "      <td>0.5700</td>\n",
       "      <td>0.7000</td>\n",
       "      <td>Republican</td>\n",
       "    </tr>\n",
       "    <tr>\n",
       "      <th>2</th>\n",
       "      <td>0.03</td>\n",
       "      <td>0.00</td>\n",
       "      <td>0.77</td>\n",
       "      <td>0.04</td>\n",
       "      <td>0.4900</td>\n",
       "      <td>0.4850</td>\n",
       "      <td>0.5100</td>\n",
       "      <td>0.4950</td>\n",
       "      <td>Republican</td>\n",
       "    </tr>\n",
       "    <tr>\n",
       "      <th>3</th>\n",
       "      <td>0.18</td>\n",
       "      <td>0.82</td>\n",
       "      <td>0.31</td>\n",
       "      <td>0.03</td>\n",
       "      <td>0.6800</td>\n",
       "      <td>0.3950</td>\n",
       "      <td>0.2750</td>\n",
       "      <td>0.5800</td>\n",
       "      <td>Republican</td>\n",
       "    </tr>\n",
       "    <tr>\n",
       "      <th>4</th>\n",
       "      <td>0.56</td>\n",
       "      <td>0.42</td>\n",
       "      <td>0.81</td>\n",
       "      <td>0.58</td>\n",
       "      <td>0.6700</td>\n",
       "      <td>0.6650</td>\n",
       "      <td>0.5800</td>\n",
       "      <td>0.6250</td>\n",
       "      <td>Republican</td>\n",
       "    </tr>\n",
       "    <tr>\n",
       "      <th>...</th>\n",
       "      <td>...</td>\n",
       "      <td>...</td>\n",
       "      <td>...</td>\n",
       "      <td>...</td>\n",
       "      <td>...</td>\n",
       "      <td>...</td>\n",
       "      <td>...</td>\n",
       "      <td>...</td>\n",
       "      <td>...</td>\n",
       "    </tr>\n",
       "    <tr>\n",
       "      <th>325</th>\n",
       "      <td>0.83</td>\n",
       "      <td>1.00</td>\n",
       "      <td>0.85</td>\n",
       "      <td>0.79</td>\n",
       "      <td>0.4425</td>\n",
       "      <td>0.4600</td>\n",
       "      <td>0.5125</td>\n",
       "      <td>0.4675</td>\n",
       "      <td>Republican</td>\n",
       "    </tr>\n",
       "    <tr>\n",
       "      <th>326</th>\n",
       "      <td>0.00</td>\n",
       "      <td>0.00</td>\n",
       "      <td>1.00</td>\n",
       "      <td>0.00</td>\n",
       "      <td>0.4500</td>\n",
       "      <td>0.6125</td>\n",
       "      <td>0.8375</td>\n",
       "      <td>0.5125</td>\n",
       "      <td>Republican</td>\n",
       "    </tr>\n",
       "    <tr>\n",
       "      <th>327</th>\n",
       "      <td>0.26</td>\n",
       "      <td>0.75</td>\n",
       "      <td>0.90</td>\n",
       "      <td>0.01</td>\n",
       "      <td>0.6150</td>\n",
       "      <td>0.6225</td>\n",
       "      <td>0.4775</td>\n",
       "      <td>0.6275</td>\n",
       "      <td>Republican</td>\n",
       "    </tr>\n",
       "    <tr>\n",
       "      <th>328</th>\n",
       "      <td>0.00</td>\n",
       "      <td>0.31</td>\n",
       "      <td>1.00</td>\n",
       "      <td>0.84</td>\n",
       "      <td>0.4850</td>\n",
       "      <td>0.5000</td>\n",
       "      <td>0.5400</td>\n",
       "      <td>0.4525</td>\n",
       "      <td>Republican</td>\n",
       "    </tr>\n",
       "    <tr>\n",
       "      <th>329</th>\n",
       "      <td>0.23</td>\n",
       "      <td>0.20</td>\n",
       "      <td>0.46</td>\n",
       "      <td>1.00</td>\n",
       "      <td>0.3050</td>\n",
       "      <td>0.5075</td>\n",
       "      <td>0.4300</td>\n",
       "      <td>0.8825</td>\n",
       "      <td>Republican</td>\n",
       "    </tr>\n",
       "  </tbody>\n",
       "</table>\n",
       "<p>1590 rows × 9 columns</p>\n",
       "</div>"
      ],
      "text/plain": [
       "     Q1_1  Q2_1  Q4_1  Q5_1  Q1_midpoint  Q2_midpoint  Q4_midpoint  \\\n",
       "0    0.25  0.46  1.00  0.75       0.1450       0.5200       0.6900   \n",
       "1    0.95  0.26  0.77  0.78       0.5100       0.8300       0.5700   \n",
       "2    0.03  0.00  0.77  0.04       0.4900       0.4850       0.5100   \n",
       "3    0.18  0.82  0.31  0.03       0.6800       0.3950       0.2750   \n",
       "4    0.56  0.42  0.81  0.58       0.6700       0.6650       0.5800   \n",
       "..    ...   ...   ...   ...          ...          ...          ...   \n",
       "325  0.83  1.00  0.85  0.79       0.4425       0.4600       0.5125   \n",
       "326  0.00  0.00  1.00  0.00       0.4500       0.6125       0.8375   \n",
       "327  0.26  0.75  0.90  0.01       0.6150       0.6225       0.4775   \n",
       "328  0.00  0.31  1.00  0.84       0.4850       0.5000       0.5400   \n",
       "329  0.23  0.20  0.46  1.00       0.3050       0.5075       0.4300   \n",
       "\n",
       "     Q5_midpoint    polAffil  \n",
       "0         0.5550  Republican  \n",
       "1         0.7000  Republican  \n",
       "2         0.4950  Republican  \n",
       "3         0.5800  Republican  \n",
       "4         0.6250  Republican  \n",
       "..           ...         ...  \n",
       "325       0.4675  Republican  \n",
       "326       0.5125  Republican  \n",
       "327       0.6275  Republican  \n",
       "328       0.4525  Republican  \n",
       "329       0.8825  Republican  \n",
       "\n",
       "[1590 rows x 9 columns]"
      ]
     },
     "execution_count": 21,
     "metadata": {},
     "output_type": "execute_result"
    }
   ],
   "source": [
    "data"
   ]
  },
  {
   "attachments": {},
   "cell_type": "markdown",
   "metadata": {},
   "source": [
    "# Average"
   ]
  },
  {
   "cell_type": "code",
   "execution_count": null,
   "metadata": {},
   "outputs": [],
   "source": [
    "N_samp = 50\n",
    "N_exp = 10000\n",
    "\n",
    "J_AVG = {err: {str(s): 0.0 for s in range(1,N_samp+1)} for err in [\"MAE\", \"MSE\", \"RMSE\"]}\n",
    "B_AVG = {err: {str(s): 0.0 for s in range(1,N_samp+1)} for err in [\"MAE\", \"MSE\", \"RMSE\"]}\n",
    "\n",
    "for i in tqdm(range(1,N_samp+1)):\n",
    "\n",
    "    judgement_AbsE = []\n",
    "    belief_AbsE = []\n",
    "    judgement_SE = []\n",
    "    belief_SE = []\n",
    "\n",
    "    for exp in range(N_exp):\n",
    "        \n",
    "        J_Q = []\n",
    "        B_Q = []\n",
    "        for Qnum in [\"1\", \"2\", \"4\", \"5\"]:\n",
    "            true_mean = data[\"Q{}_1\".format(Qnum)].mean()\n",
    "            J_sample = np.random.choice(data[\"Q{}_1\".format(Qnum)].values,i)\n",
    "            B_sample = np.random.choice(data[\"Q{}_midpoint\".format(Qnum)].values,i)\n",
    "            \n",
    "            J_E_Q = true_mean-J_sample.mean()\n",
    "            B_E_Q = true_mean-B_sample.mean()\n",
    "            J_Q.append(J_E_Q)\n",
    "            B_Q.append(B_E_Q)\n",
    "        \n",
    "        #J_E = np.mean(J_Q)\n",
    "        #B_E = np.mean(B_Q)\n",
    "        judgement_AbsE.append(np.mean([np.abs(j) for j in J_Q]))\n",
    "        belief_AbsE.append(np.mean([np.abs(j) for j in B_Q]))\n",
    "        judgement_SE.append(np.mean([j**2 for j in J_Q]))\n",
    "        belief_SE.append(np.mean([j**2 for j in B_Q]))\n",
    "    \n",
    "    # mean absolute error\n",
    "    J_MAE = np.mean(judgement_AbsE)\n",
    "    B_MAE = np.mean(belief_AbsE)\n",
    "    J_AVG[\"MAE\"][str(i)] = J_MAE\n",
    "    B_AVG[\"MAE\"][str(i)] = B_MAE\n",
    "    \n",
    "    # mean squared error\n",
    "    J_MSE = np.mean(judgement_SE)\n",
    "    B_MSE = np.mean(belief_SE)\n",
    "    J_AVG[\"MSE\"][str(i)] = J_MSE \n",
    "    B_AVG[\"MSE\"][str(i)] = B_MSE\n",
    "\n",
    "    # root mean squared error\n",
    "    J_RMSE = np.sqrt(np.mean(judgement_SE))\n",
    "    B_RMSE = np.sqrt(np.mean(belief_SE))\n",
    "    J_AVG[\"RMSE\"][str(i)] = J_RMSE\n",
    "    B_AVG[\"RMSE\"][str(i)] = B_RMSE\n",
    "\n",
    "            "
   ]
  },
  {
   "cell_type": "code",
   "execution_count": 11,
   "metadata": {},
   "outputs": [],
   "source": [
    "with open('J_AVG.pkl', 'wb') as f:\n",
    "    pickle.dump(J_AVG, f)\n",
    "\n",
    "with open('B_AVG.pkl', 'wb') as f:\n",
    "    pickle.dump(B_AVG, f)"
   ]
  },
  {
   "cell_type": "code",
   "execution_count": 9,
   "metadata": {},
   "outputs": [],
   "source": [
    "with open('J_AVG.pkl', 'rb') as f:\n",
    "    J_AVG = pickle.load(f)\n",
    "\n",
    "with open('B_AVG.pkl', 'rb') as f:\n",
    "    B_AVG = pickle.load(f)"
   ]
  },
  {
   "cell_type": "code",
   "execution_count": 10,
   "metadata": {},
   "outputs": [
    {
     "data": {
      "text/plain": [
       "Text(0.5, 1.0, 'Average errors')"
      ]
     },
     "execution_count": 10,
     "metadata": {},
     "output_type": "execute_result"
    },
    {
     "data": {
      "image/png": "[encoded data removed]",
      "text/plain": [
       "<Figure size 504x360 with 2 Axes>"
      ]
     },
     "metadata": {
      "needs_background": "light"
     },
     "output_type": "display_data"
    }
   ],
   "source": [
    "fig, ax = plt.subplots(2,1,figsize=(7,5))\n",
    "for i, error_metric in enumerate([\"MAE\",\"RMSE\"]):\n",
    "    J_avg = list(J_AVG[error_metric].values())\n",
    "\n",
    "    B_avg = list(B_AVG[error_metric].values())\n",
    "\n",
    "    ax[i].plot(np.arange(50),J_avg, label=\"Judgement\")\n",
    "    ax[i].plot(np.arange(50),B_avg, label=\"Belief\")\n",
    "    #ax[i].scatter(np.arange(50),J_avg,s=10)\n",
    "    #ax[i].scatter(np.arange(50),B_avg,s=10)\n",
    "    ax[i].set_ylabel(error_metric)\n",
    "    ax[i].legend()\n",
    "ax[0].set_title(\"Average errors\")\n",
    "\n",
    "#plt.savefig(\"average.pdf\")"
   ]
  },
  {
   "attachments": {},
   "cell_type": "markdown",
   "metadata": {},
   "source": [
    "## average but sampling from biased sample(s)"
   ]
  },
  {
   "cell_type": "code",
   "execution_count": 17,
   "metadata": {},
   "outputs": [
    {
     "name": "stderr",
     "output_type": "stream",
     "text": [
      "100%|██████████| 50/50 [42:28<00:00, 50.97s/it]\n"
     ]
    }
   ],
   "source": [
    "\n",
    "N_samp = 50\n",
    "N_exp = 10000\n",
    "\n",
    "J_AVG_RBIAS = {err: {str(s): 0.0 for s in range(1,N_samp+1)} for err in [\"MAE\", \"MSE\", \"RMSE\"]}\n",
    "B_AVG_RBIAS = {err: {str(s): 0.0 for s in range(1,N_samp+1)} for err in [\"MAE\", \"MSE\", \"RMSE\"]}\n",
    "\n",
    "for i in tqdm(range(1,N_samp+1)):\n",
    "\n",
    "    judgement_AbsE = []\n",
    "    belief_AbsE = []\n",
    "    judgement_SE = []\n",
    "    belief_SE = []\n",
    "\n",
    "    for exp in range(N_exp):\n",
    "        \n",
    "        J_Q = []\n",
    "        B_Q = []\n",
    "        for Qnum in [\"1\", \"2\", \"4\", \"5\"]:\n",
    "            true_mean = data[\"Q{}_1\".format(Qnum)].mean()\n",
    "            \n",
    "            J_sample = np.random.choice(data[data.polAffil==\"Republican\"][\"Q{}_1\".format(Qnum)].values,i)\n",
    "            B_sample = np.random.choice(data[data.polAffil==\"Republican\"][\"Q{}_midpoint\".format(Qnum)].values,i)\n",
    "            \n",
    "            J_E_Q = true_mean-J_sample.mean()\n",
    "            B_E_Q = true_mean-B_sample.mean()\n",
    "            J_Q.append(J_E_Q)\n",
    "            B_Q.append(B_E_Q)\n",
    "        \n",
    "        #J_E = np.mean(J_Q)\n",
    "        #B_E = np.mean(B_Q)\n",
    "        judgement_AbsE.append(np.mean([np.abs(j) for j in J_Q]))\n",
    "        belief_AbsE.append(np.mean([np.abs(j) for j in B_Q]))\n",
    "        judgement_SE.append(np.mean([j**2 for j in J_Q]))\n",
    "        belief_SE.append(np.mean([j**2 for j in B_Q]))\n",
    "    \n",
    "    # mean absolute error\n",
    "    J_MAE = np.mean(judgement_AbsE)\n",
    "    B_MAE = np.mean(belief_AbsE)\n",
    "    J_AVG_RBIAS[\"MAE\"][str(i)] = J_MAE\n",
    "    B_AVG_RBIAS[\"MAE\"][str(i)] = B_MAE\n",
    "    \n",
    "    # mean squared error\n",
    "    J_MSE = np.mean(judgement_SE)\n",
    "    B_MSE = np.mean(belief_SE)\n",
    "    J_AVG_RBIAS[\"MSE\"][str(i)] = J_MSE \n",
    "    B_AVG_RBIAS[\"MSE\"][str(i)] = B_MSE\n",
    "\n",
    "    # root mean squared error\n",
    "    J_RMSE = np.sqrt(np.mean(judgement_SE))\n",
    "    B_RMSE = np.sqrt(np.mean(belief_SE))\n",
    "    J_AVG_RBIAS[\"RMSE\"][str(i)] = J_RMSE\n",
    "    B_AVG_RBIAS[\"RMSE\"][str(i)] = B_RMSE"
   ]
  },
  {
   "cell_type": "code",
   "execution_count": 18,
   "metadata": {},
   "outputs": [],
   "source": [
    "with open('J_AVG_RBIAS.pkl', 'wb') as f:\n",
    "    pickle.dump(J_AVG_RBIAS, f)\n",
    "\n",
    "with open('B_AVG_RBIAS.pkl', 'wb') as f:\n",
    "    pickle.dump(B_AVG_RBIAS, f)"
   ]
  },
  {
   "cell_type": "code",
   "execution_count": 19,
   "metadata": {},
   "outputs": [
    {
     "name": "stderr",
     "output_type": "stream",
     "text": [
      "100%|██████████| 50/50 [45:38<00:00, 54.77s/it]\n"
     ]
    }
   ],
   "source": [
    "\n",
    "N_samp = 50\n",
    "N_exp = 10000\n",
    "\n",
    "J_AVG_BBIAS = {err: {str(s): 0.0 for s in range(1,N_samp+1)} for err in [\"MAE\", \"MSE\", \"RMSE\"]}\n",
    "B_AVG_BBIAS = {err: {str(s): 0.0 for s in range(1,N_samp+1)} for err in [\"MAE\", \"MSE\", \"RMSE\"]}\n",
    "\n",
    "for i in tqdm(range(1,N_samp+1)):\n",
    "\n",
    "    judgement_AbsE = []\n",
    "    belief_AbsE = []\n",
    "    judgement_SE = []\n",
    "    belief_SE = []\n",
    "\n",
    "    for exp in range(N_exp):\n",
    "        \n",
    "        J_Q = []\n",
    "        B_Q = []\n",
    "        for Qnum in [\"1\", \"2\", \"4\", \"5\"]:\n",
    "            true_mean = data[\"Q{}_1\".format(Qnum)].mean()\n",
    "            J_sample = np.random.choice(data[data.polAffil==\"Democrat\"][\"Q{}_1\".format(Qnum)].values,i)\n",
    "            B_sample = np.random.choice(data[data.polAffil==\"Democrat\"][\"Q{}_midpoint\".format(Qnum)].values,i)\n",
    "            \n",
    "            J_E_Q = true_mean-J_sample.mean()\n",
    "            B_E_Q = true_mean-B_sample.mean()\n",
    "            J_Q.append(J_E_Q)\n",
    "            B_Q.append(B_E_Q)\n",
    "        \n",
    "        #J_E = np.mean(J_Q)\n",
    "        #B_E = np.mean(B_Q)\n",
    "        judgement_AbsE.append(np.mean([np.abs(j) for j in J_Q]))\n",
    "        belief_AbsE.append(np.mean([np.abs(j) for j in B_Q]))\n",
    "        judgement_SE.append(np.mean([j**2 for j in J_Q]))\n",
    "        belief_SE.append(np.mean([j**2 for j in B_Q]))\n",
    "    \n",
    "    # mean absolute error\n",
    "    J_MAE = np.mean(judgement_AbsE)\n",
    "    B_MAE = np.mean(belief_AbsE)\n",
    "    J_AVG_BBIAS[\"MAE\"][str(i)] = J_MAE\n",
    "    B_AVG_BBIAS[\"MAE\"][str(i)] = B_MAE\n",
    "    \n",
    "    # mean squared error\n",
    "    J_MSE = np.mean(judgement_SE)\n",
    "    B_MSE = np.mean(belief_SE)\n",
    "    J_AVG_BBIAS[\"MSE\"][str(i)] = J_MSE \n",
    "    B_AVG_BBIAS[\"MSE\"][str(i)] = B_MSE\n",
    "\n",
    "    # root mean squared error\n",
    "    J_RMSE = np.sqrt(np.mean(judgement_SE))\n",
    "    B_RMSE = np.sqrt(np.mean(belief_SE))\n",
    "    J_AVG_BBIAS[\"RMSE\"][str(i)] = J_RMSE\n",
    "    B_AVG_BBIAS[\"RMSE\"][str(i)] = B_RMSE"
   ]
  },
  {
   "cell_type": "code",
   "execution_count": 20,
   "metadata": {},
   "outputs": [],
   "source": [
    "with open('J_AVG_BBIAS.pkl', 'wb') as f:\n",
    "    pickle.dump(J_AVG_BBIAS, f)\n",
    "\n",
    "with open('B_AVG_BBIAS.pkl', 'wb') as f:\n",
    "    pickle.dump(B_AVG_BBIAS, f)"
   ]
  },
  {
   "attachments": {},
   "cell_type": "markdown",
   "metadata": {},
   "source": [
    "# Per sentence"
   ]
  },
  {
   "cell_type": "code",
   "execution_count": 11,
   "metadata": {},
   "outputs": [
    {
     "name": "stderr",
     "output_type": "stream",
     "text": [
      "100%|██████████| 150/150 [12:28<00:00,  4.99s/it]\n"
     ]
    }
   ],
   "source": [
    "\n",
    "N_samp = 150\n",
    "N_exp = 10000\n",
    "\n",
    "J_results = {Q: {err: {str(s): 0.0 for s in range(1,N_samp+1)} for err in [\"MAE\", \"MSE\", \"RMSE\"]} for Q in [\"1\", \"2\", \"4\", \"5\"]}\n",
    "B_results = {Q: {err: {str(s): 0.0 for s in range(1,N_samp+1)} for err in [\"MAE\", \"MSE\", \"RMSE\"]} for Q in [\"1\", \"2\", \"4\", \"5\"]}\n",
    "\n",
    "for i in tqdm(range(1,N_samp+1)):\n",
    "    \n",
    "    for Qnum in [\"1\", \"2\", \"4\", \"5\"]:\n",
    "        true_mean = data[\"Q{}_1\".format(Qnum)].mean()\n",
    "\n",
    "        judgement_E = []\n",
    "        belief_E = []\n",
    "        judgement_AbsE = []\n",
    "        belief_AbsE = []\n",
    "        judgement_SE = []\n",
    "        belief_SE = []\n",
    "\n",
    "        for exp in range(N_exp):\n",
    "            J_sample = np.random.choice(data[\"Q{}_1\".format(Qnum)].values,i)\n",
    "            B_sample = np.random.choice(data[\"Q{}_midpoint\".format(Qnum)].values,i)\n",
    "\n",
    "\n",
    "            #J_E = true_mean-J_sample.mean()\n",
    "            #B_E = true_mean-B_sample.mean()\n",
    "            #judgement_E.append(J_E)\n",
    "            #belief_E.append(B_E)\n",
    "\n",
    "            J_AbsE = np.abs(true_mean-J_sample.mean())\n",
    "            B_AbsE = np.abs(true_mean-B_sample.mean())\n",
    "            judgement_AbsE.append(J_AbsE)\n",
    "            belief_AbsE.append(B_AbsE)\n",
    "\n",
    "            J_SE = (true_mean-J_sample.mean())**2\n",
    "            B_SE = (true_mean-B_sample.mean())**2\n",
    "            judgement_SE.append(J_SE)\n",
    "            belief_SE.append(B_SE)\n",
    "\n",
    "        # mean difference\n",
    "        #J_ME = np.mean(judgement_E)\n",
    "        #B_ME = np.mean(belief_E)\n",
    "        #J_results[Qnum][\"ME\"][str(i)] = J_ME\n",
    "        #B_results[Qnum][\"ME\"][str(i)] = B_ME\n",
    "\n",
    "        \n",
    "        # mean abolute error\n",
    "        J_MAE = np.mean(judgement_AbsE)\n",
    "        B_MAE = np.mean(belief_AbsE)\n",
    "        J_results[Qnum][\"MAE\"][str(i)] = J_MAE\n",
    "        B_results[Qnum][\"MAE\"][str(i)] = B_MAE\n",
    "        \n",
    "        # mean squared error\n",
    "        J_MSE = np.mean(judgement_SE)\n",
    "        B_MSE = np.mean(belief_SE)\n",
    "        J_results[Qnum][\"MSE\"][str(i)] = J_MSE\n",
    "        B_results[Qnum][\"MSE\"][str(i)] = B_MSE\n",
    "        \n",
    "        # root mean squared error\n",
    "        J_RMSE = np.sqrt(np.mean(judgement_SE))\n",
    "        B_RMSE = np.sqrt(np.mean(belief_SE))\n",
    "        J_results[Qnum][\"RMSE\"][str(i)] = J_RMSE\n",
    "        B_results[Qnum][\"RMSE\"][str(i)] = B_RMSE\n",
    "\n",
    "\n"
   ]
  },
  {
   "cell_type": "code",
   "execution_count": 12,
   "metadata": {},
   "outputs": [],
   "source": [
    "with open('J_results.pkl', 'wb') as f:\n",
    "    pickle.dump(J_results, f)\n",
    "\n",
    "with open('B_results.pkl', 'wb') as f:\n",
    "    pickle.dump(B_results, f)"
   ]
  },
  {
   "attachments": {},
   "cell_type": "markdown",
   "metadata": {},
   "source": [
    "# loading and plotting"
   ]
  },
  {
   "cell_type": "code",
   "execution_count": 2,
   "metadata": {},
   "outputs": [],
   "source": [
    "with open('J_AVG.pkl', 'rb') as f:\n",
    "    J_AVG = pickle.load(f)\n",
    "\n",
    "with open('B_AVG.pkl', 'rb') as f:\n",
    "    B_AVG = pickle.load(f)\n",
    "\n",
    "\n",
    "with open('J_results.pkl', 'rb') as f:\n",
    "    J_results = pickle.load(f)\n",
    "\n",
    "with open('B_results.pkl', 'rb') as f:\n",
    "    B_results = pickle.load(f)\n",
    "\n",
    "\n",
    "with open('J_AVG_BBIAS.pkl', 'rb') as f:\n",
    "    J_AVG_DBIAS = pickle.load(f)\n",
    "\n",
    "with open('B_AVG_BBIAS.pkl', 'rb') as f:\n",
    "    B_AVG_DBIAS = pickle.load(f)\n",
    "\n",
    "\n",
    "with open('J_AVG_RBIAS.pkl', 'rb') as f:\n",
    "    J_AVG_RBIAS = pickle.load(f)\n",
    "\n",
    "with open('B_AVG_RBIAS.pkl', 'rb') as f:\n",
    "    B_AVG_RBIAS = pickle.load(f)\n"
   ]
  },
  {
   "cell_type": "code",
   "execution_count": 5,
   "metadata": {},
   "outputs": [],
   "source": [
    "sns.set_palette(\"binary\")\n",
    "plt.rc('axes', labelsize=14)\n",
    "plt.rc('xtick', labelsize=14)\n",
    "plt.rc('ytick', labelsize=14)\n",
    "plt.rc('axes', titlesize=16)\n",
    "plt.rc('legend', fontsize=14) \n",
    "plt.rc('figure', titlesize=18)\n",
    "\n",
    "palette = sns.color_palette(\"binary_r\",5)"
   ]
  },
  {
   "cell_type": "code",
   "execution_count": 100,
   "metadata": {},
   "outputs": [
    {
     "data": {
      "image/png": "[encoded data removed]",
      "text/plain": [
       "<Figure size 720x288 with 3 Axes>"
      ]
     },
     "metadata": {
      "needs_background": "light"
     },
     "output_type": "display_data"
    }
   ],
   "source": [
    "\n",
    "fig = plt.figure(figsize=(10,4))\n",
    "\n",
    "ax1 = plt.subplot2grid((2, 3), (0, 0),colspan=2,rowspan=2)\n",
    "\n",
    "ax2 = plt.subplot2grid((2, 3), (0, 2), colspan=1,rowspan=1)\n",
    "ax3 = plt.subplot2grid((2, 3), (1, 2), colspan=1,rowspan=1)\n",
    "\n",
    "plt.tight_layout()\n",
    "\n",
    "ax1.plot(np.arange(1,51),list(J_AVG[\"RMSE\"].values()), label=\"Judgement\",c=palette[3])\n",
    "ax1.plot(np.arange(1,51),list(B_AVG[\"RMSE\"].values()), label=\"Belief\",c=palette[0])\n",
    "ax1.axvline(x=18,c=\"black\", linestyle=\"--\", lw=1)\n",
    "ax1.set_xticks(np.arange(0,51,1), minor=True)\n",
    "ax1.set_ylabel(\"RMSE\")\n",
    "ax1.set_xlabel(\"Sample size (amount of annotators per instance)\")\n",
    "#ax1.legend()\n",
    "\n",
    "ax2.plot(np.arange(1,51),list(J_AVG_DBIAS[\"RMSE\"].values()), label=\"Judgement\",c=palette[3])\n",
    "ax2.plot(np.arange(1,51),list(B_AVG_DBIAS[\"RMSE\"].values()), label=\"Belief\",c=palette[0])\n",
    "ax2.axvline(x=40,c=\"black\", linestyle=\"--\", lw=1)\n",
    "ax2.set_xticks(np.arange(0,51,5), minor=True)\n",
    "ax2.set_title(\"Democrat sample\",fontsize=14)\n",
    "#ax2.legend()\n",
    "\n",
    "ax3.plot(np.arange(1,51),list(J_AVG_RBIAS[\"RMSE\"].values()), label=\"Judgement\",c=palette[3])\n",
    "ax3.plot(np.arange(1,51),list(B_AVG_RBIAS[\"RMSE\"].values()), label=\"Belief\",c=palette[0])\n",
    "ax3.axvline(x=26,c=\"black\", linestyle=\"--\", lw=1)\n",
    "ax3.set_xticks(np.arange(0,51,5), minor=True)\n",
    "ax3.set_title(\"Republican sample\",fontsize=14)\n",
    "#ax3.set_xlabel(\"Sample size\")\n",
    "#ax3.legend()\n",
    "\n",
    "plt.legend(bbox_to_anchor=(-2.1, 2.9), loc=\"upper center\", \n",
    "    borderaxespad=0.,frameon=True,ncol=2)\n",
    "\n",
    "\n",
    "fig.subplots_adjust(hspace=0.5)\n",
    "\n",
    "plt.savefig(\"avg_rmse_vs_size.pdf\",bbox_inches='tight')"
   ]
  },
  {
   "cell_type": "code",
   "execution_count": 13,
   "metadata": {},
   "outputs": [
    {
     "data": {
      "image/png": "[encoded data removed]",
      "text/plain": [
       "<Figure size 936x216 with 4 Axes>"
      ]
     },
     "metadata": {
      "needs_background": "light"
     },
     "output_type": "display_data"
    }
   ],
   "source": [
    "fig, ax = plt.subplots(1,4, figsize=(13,3), sharey=True, sharex=True)\n",
    "\n",
    "for indel,(s,slab) in enumerate(list(zip([\"4\", \"5\",\"1\",\"2\"],[\"D1\", \"D2\", \"R1\", \"R2\"]))):\n",
    "    ax[indel].plot(np.arange(1,51),list(J_results[s][\"RMSE\"].values())[:50], label=\"Judgement\",c=palette[3])\n",
    "    ax[indel].plot(np.arange(1,51),list(B_results[s][\"RMSE\"].values())[:50], label=\"Belief\",c=palette[0])\n",
    "    ax[indel].set_xticks(np.arange(0,51,5), minor=True)\n",
    "    ax[indel].set_title(slab)\n",
    "\n",
    "ax[0].set_ylabel(\"RMSE\")\n",
    "\n",
    "ax[0].axvline(x=5,c=\"black\", linestyle=\"--\", lw=1)\n",
    "ax[1].axvline(x=12,c=\"black\", linestyle=\"--\", lw=1)\n",
    "\n",
    "plt.tight_layout()\n",
    "plt.legend(bbox_to_anchor=(-2.7, 1.35), loc=\"upper center\", \n",
    "    borderaxespad=0.,frameon=True,ncol=2)\n",
    "\n",
    "fig.text(x=0.5,y=-0.03, s=\"Sample size (amount of annotators per instance)\",horizontalalignment='center',fontsize=14)\n",
    "\n",
    "#plt.savefig(\"instance_rmse_vs_size.pdf\", bbox_inches='tight')"
   ]
  }
 ],
 "metadata": {
  "kernelspec": {
   "display_name": "Python 3 (ipykernel)",
   "language": "python",
   "name": "python3"
  },
  "language_info": {
   "codemirror_mode": {
    "name": "ipython",
    "version": 3
   },
   "file_extension": ".py",
   "mimetype": "text/x-python",
   "name": "python",
   "nbconvert_exporter": "python",
   "pygments_lexer": "ipython3",
   "version": "3.9.6"
  },
  "vscode": {
   "interpreter": {
    "hash": "aee8b7b246df8f9039afb4144a1f6fd8d2ca17a180786b69acc140d282b71a49"
   }
  }
 },
 "nbformat": 4,
 "nbformat_minor": 4
}
